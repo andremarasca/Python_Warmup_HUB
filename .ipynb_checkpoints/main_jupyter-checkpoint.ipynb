{
 "cells": [
  {
   "cell_type": "markdown",
   "metadata": {},
   "source": [
    "# Python warmup"
   ]
  },
  {
   "cell_type": "markdown",
   "metadata": {},
   "source": [
    "## Definindo funções genéricas para todos os exercícios"
   ]
  },
  {
   "cell_type": "markdown",
   "metadata": {},
   "source": [
    "Definir função para leitura e estruturamento do dataset"
   ]
  },
  {
   "cell_type": "code",
   "execution_count": 1,
   "metadata": {},
   "outputs": [],
   "source": [
    "def f_carregar_dataset(filename, header_sep, sep, header):\n",
    "\n",
    "    # Carregar arquivo do dataset\n",
    "\n",
    "    f = open(filename, \"r\", encoding='latin-1')\n",
    "    dataset = f.read().split(\"\\n\")\n",
    "\n",
    "    # Remover ultima linha (linha vazia)\n",
    "\n",
    "    dataset.pop()\n",
    "\n",
    "    # Construir dicionário com nomes das colunas\n",
    "\n",
    "    dataset_header = header.split(header_sep)\n",
    "\n",
    "    dict_dataset = {}\n",
    "\n",
    "    for name in dataset_header:\n",
    "        dict_dataset[name] = []\n",
    "\n",
    "    # Popular dicionario\n",
    "\n",
    "    for instancia in dataset:\n",
    "        for idx, col in enumerate(instancia.split(sep)):\n",
    "            dict_dataset[dataset_header[idx]].append(col)\n",
    "\n",
    "    return dict_dataset"
   ]
  },
  {
   "cell_type": "markdown",
   "metadata": {},
   "source": [
    "Definir função para acumulação de rating em um dicionário não inicializado"
   ]
  },
  {
   "cell_type": "code",
   "execution_count": 2,
   "metadata": {},
   "outputs": [],
   "source": [
    "def accumulator(dict_rating, key, rating):\n",
    "    if key not in dict_rating[\"sum\"]:\n",
    "        dict_rating[\"sum\"][key] = 0\n",
    "        dict_rating[\"quant\"][key] = 0\n",
    "\n",
    "    dict_rating[\"sum\"][key] += float(rating)\n",
    "    dict_rating[\"quant\"][key] += 1"
   ]
  },
  {
   "cell_type": "markdown",
   "metadata": {},
   "source": [
    "Definir função para cálculo da média em um dicionário com informações de soma e quantidade"
   ]
  },
  {
   "cell_type": "code",
   "execution_count": 3,
   "metadata": {},
   "outputs": [],
   "source": [
    "def mean_calculator(dict_rating):\n",
    "    # Calcular a media\n",
    "    for key in dict_rating[\"sum\"]:\n",
    "        dict_rating[\"mean\"][key] = dict_rating[\"sum\"][key] / \\\n",
    "            dict_rating[\"quant\"][key]"
   ]
  },
  {
   "cell_type": "markdown",
   "metadata": {},
   "source": [
    "Definir função para criar um par (rating, id) e ordenar ascendente por rating"
   ]
  },
  {
   "cell_type": "code",
   "execution_count": 4,
   "metadata": {},
   "outputs": [],
   "source": [
    "def f_sort_rating_tuple(dict_rating):\n",
    "    # Ordenar o rating e devolver uma tupla ordenada em ordem crescente\n",
    "    list_id = []\n",
    "    list_rating = []\n",
    "\n",
    "    for id in dict_rating[\"mean\"]:\n",
    "        list_id.append(id)\n",
    "        list_rating.append(dict_rating[\"mean\"][id])\n",
    "\n",
    "    tuple_sorted_rating = sorted(zip(list_rating, list_id))\n",
    "\n",
    "    return tuple_sorted_rating"
   ]
  },
  {
   "cell_type": "markdown",
   "metadata": {},
   "source": [
    "# Exercício 1\n",
    "Imprimir uma lista dos ID, em que, para cada ID eu calculo a média, e a média dele deve estar abaixo da media global."
   ]
  },
  {
   "cell_type": "code",
   "execution_count": 5,
   "metadata": {},
   "outputs": [],
   "source": [
    "data_header = \"id|item_id|rating|timestamp\"\n",
    "\n",
    "dict_data = f_carregar_dataset(\n",
    "    \"../ml-100k/u.data\", header_sep=\"|\", sep=\"\\t\", header=data_header)"
   ]
  },
  {
   "cell_type": "markdown",
   "metadata": {},
   "source": [
    "Transformar atributo rating de string para int"
   ]
  },
  {
   "cell_type": "code",
   "execution_count": 6,
   "metadata": {},
   "outputs": [],
   "source": [
    "dict_data[\"rating\"] = list(map(int, dict_data[\"rating\"]))"
   ]
  },
  {
   "cell_type": "markdown",
   "metadata": {},
   "source": [
    "Calcular o rating médio global"
   ]
  },
  {
   "cell_type": "code",
   "execution_count": 7,
   "metadata": {},
   "outputs": [
    {
     "name": "stdout",
     "output_type": "stream",
     "text": [
      "Rating médio global 3.52986\n"
     ]
    }
   ],
   "source": [
    "n_instancias = len(dict_data[\"rating\"])\n",
    "rating_sum = sum(dict_data[\"rating\"])\n",
    "rating_mean = rating_sum / n_instancias\n",
    "\n",
    "print(f'Rating médio global {rating_mean}')"
   ]
  },
  {
   "cell_type": "markdown",
   "metadata": {},
   "source": [
    "Definir uma função para calcular o rating recebendo o nome da coluna em relação a u.data"
   ]
  },
  {
   "cell_type": "code",
   "execution_count": 8,
   "metadata": {},
   "outputs": [],
   "source": [
    "def f_rating_estimator(atrib_name=\"id\"):\n",
    "    # Obter media de rating para cada ID da coluna recebida\n",
    "\n",
    "    dict_rating = {\"sum\": {}, \"quant\": {}, \"mean\": {}}\n",
    "\n",
    "    # Calcular soma e quantidade\n",
    "    for i in range(n_instancias):\n",
    "        atrib_id = dict_data[atrib_name][i]\n",
    "        rating = dict_data[\"rating\"][i]\n",
    "\n",
    "        accumulator(dict_rating, atrib_id, rating)\n",
    "\n",
    "    mean_calculator(dict_rating)\n",
    "\n",
    "    return dict_rating"
   ]
  },
  {
   "cell_type": "markdown",
   "metadata": {},
   "source": [
    "Calcular o rating para cada user"
   ]
  },
  {
   "cell_type": "code",
   "execution_count": 9,
   "metadata": {},
   "outputs": [],
   "source": [
    "dict_rating_user = f_rating_estimator(\"id\")"
   ]
  },
  {
   "cell_type": "markdown",
   "metadata": {},
   "source": [
    "Ordenar o par (rating, user)"
   ]
  },
  {
   "cell_type": "code",
   "execution_count": 10,
   "metadata": {},
   "outputs": [],
   "source": [
    "tuple_sorted_rating_user = f_sort_rating_tuple(dict_rating_user)"
   ]
  },
  {
   "cell_type": "markdown",
   "metadata": {},
   "source": [
    "Imprimir top 5 piores rating"
   ]
  },
  {
   "cell_type": "code",
   "execution_count": 11,
   "metadata": {},
   "outputs": [
    {
     "name": "stdout",
     "output_type": "stream",
     "text": [
      "user 181 rating 1.492\n",
      "user 405 rating 1.834\n",
      "user 445 rating 1.985\n",
      "user 685 rating 2.050\n",
      "user 774 rating 2.058\n"
     ]
    }
   ],
   "source": [
    "for user in tuple_sorted_rating_user[0:5]:\n",
    "    if user[0] < rating_mean:\n",
    "        print(f\"user {user[1]} rating {'%.3f' % user[0]}\")"
   ]
  },
  {
   "cell_type": "markdown",
   "metadata": {},
   "source": [
    "# Exercícios 2 e 3\n",
    "2 - Imprimir os top 5 filmes mais mal avaliados pelos usuários\n",
    "\n",
    "3 - Imprimir os top 5 filmes mais mal avaliados pelos usuários"
   ]
  },
  {
   "cell_type": "markdown",
   "metadata": {},
   "source": [
    "Calcular o rating para cada filme"
   ]
  },
  {
   "cell_type": "code",
   "execution_count": 12,
   "metadata": {},
   "outputs": [],
   "source": [
    "dict_rating_movie = f_rating_estimator(\"item_id\")"
   ]
  },
  {
   "cell_type": "markdown",
   "metadata": {},
   "source": [
    "Ordenar o par (rating, movie)"
   ]
  },
  {
   "cell_type": "code",
   "execution_count": 13,
   "metadata": {},
   "outputs": [],
   "source": [
    "tuple_sorted_rating_movie = f_sort_rating_tuple(dict_rating_movie)"
   ]
  },
  {
   "cell_type": "markdown",
   "metadata": {},
   "source": [
    "2 - Top 5 piores"
   ]
  },
  {
   "cell_type": "code",
   "execution_count": 14,
   "metadata": {},
   "outputs": [
    {
     "name": "stdout",
     "output_type": "stream",
     "text": [
      "Movie 1308 rating 1.000\n",
      "Movie 1309 rating 1.000\n",
      "Movie 1320 rating 1.000\n",
      "Movie 1325 rating 1.000\n",
      "Movie 1329 rating 1.000\n"
     ]
    }
   ],
   "source": [
    "for user in tuple_sorted_rating_movie[0:5]:\n",
    "    print(f\"Movie {user[1]} rating {'%.3f' % user[0]}\")"
   ]
  },
  {
   "cell_type": "markdown",
   "metadata": {},
   "source": [
    "3 - Top 5 melhores"
   ]
  },
  {
   "cell_type": "code",
   "execution_count": 15,
   "metadata": {},
   "outputs": [
    {
     "name": "stdout",
     "output_type": "stream",
     "text": [
      "Movie 1500 rating 5.000\n",
      "Movie 1536 rating 5.000\n",
      "Movie 1599 rating 5.000\n",
      "Movie 1653 rating 5.000\n",
      "Movie 814 rating 5.000\n"
     ]
    }
   ],
   "source": [
    "for user in tuple_sorted_rating_movie[-5:]:\n",
    "    print(f\"Movie {user[1]} rating {'%.3f' % user[0]}\")"
   ]
  },
  {
   "cell_type": "markdown",
   "metadata": {},
   "source": [
    "# Exercício 4 - Média de avaliação para cada genero"
   ]
  },
  {
   "cell_type": "code",
   "execution_count": 16,
   "metadata": {},
   "outputs": [],
   "source": [
    "genres = \"Action|Adventure|Animation|Children's|Comedy|Crime|Documentary|Drama|Fantasy|Film-Noir|Horror|Musical|Mystery|Romance|Sci-Fi|Thriller|War|Western\"\n",
    "genres = genres.split(\"|\")"
   ]
  },
  {
   "cell_type": "markdown",
   "metadata": {},
   "source": [
    "Construir dicionário / dataset"
   ]
  },
  {
   "cell_type": "code",
   "execution_count": 17,
   "metadata": {},
   "outputs": [],
   "source": [
    "item_info_header = \"movie_id|movie_title|release_date|video_release_date|IMDb_URL|unknown|Action|Adventure|Animation|Children's|Comedy|Crime|Documentary|Drama|Fantasy|Film-Noir|Horror|Musical|Mystery|Romance|Sci-Fi|Thriller|War|Western\"\n",
    "\n",
    "dict_item_info = f_carregar_dataset(\n",
    "    \"../ml-100k/u.item\", header_sep=\"|\", sep=\"|\", header=item_info_header)\n"
   ]
  },
  {
   "cell_type": "markdown",
   "metadata": {},
   "source": [
    "Definir função para calcular o rating para cada genero"
   ]
  },
  {
   "cell_type": "code",
   "execution_count": 18,
   "metadata": {},
   "outputs": [],
   "source": [
    "def f_rating_estimator_genre():\n",
    "\n",
    "    # Inicializar os dicionários de contagem\n",
    "\n",
    "    dict_rating = {\"sum\": {}, \"quant\": {}, \"mean\": {}}\n",
    "\n",
    "    # Iterar informações sobre filmes calculando o rating medio de cada genero\n",
    "\n",
    "    for idx in range(len(dict_item_info[\"movie_id\"])):\n",
    "        movie_id = dict_item_info[\"movie_id\"][idx]\n",
    "        movie_rating = dict_rating_movie[\"mean\"][movie_id]\n",
    "\n",
    "        for genre in genres:\n",
    "            if dict_item_info[genre][idx] == '1':\n",
    "                accumulator(dict_rating, genre, movie_rating)\n",
    "\n",
    "    mean_calculator(dict_rating)\n",
    "\n",
    "    return dict_rating"
   ]
  },
  {
   "cell_type": "markdown",
   "metadata": {},
   "source": [
    "Calcular o rating para cada genero"
   ]
  },
  {
   "cell_type": "code",
   "execution_count": 19,
   "metadata": {},
   "outputs": [],
   "source": [
    "dict_rating_genre = f_rating_estimator_genre()"
   ]
  },
  {
   "cell_type": "markdown",
   "metadata": {},
   "source": [
    "Ordenar o par (rating, genero)"
   ]
  },
  {
   "cell_type": "code",
   "execution_count": 20,
   "metadata": {},
   "outputs": [],
   "source": [
    "tuple_sorted_rating_genre = f_sort_rating_tuple(dict_rating_genre)"
   ]
  },
  {
   "cell_type": "markdown",
   "metadata": {},
   "source": [
    "Imprimir o rate medio de cada genero"
   ]
  },
  {
   "cell_type": "code",
   "execution_count": 21,
   "metadata": {},
   "outputs": [
    {
     "name": "stdout",
     "output_type": "stream",
     "text": [
      "Genre Horror rating 2.730\n",
      "Genre Fantasy rating 2.850\n",
      "Genre Children's rating 2.917\n",
      "Genre Action rating 2.966\n",
      "Genre Comedy rating 3.001\n",
      "Genre Thriller rating 3.137\n",
      "Genre Adventure rating 3.144\n",
      "Genre Sci-Fi rating 3.165\n",
      "Genre Western rating 3.186\n",
      "Genre Drama rating 3.187\n",
      "Genre Crime rating 3.211\n",
      "Genre Documentary rating 3.229\n",
      "Genre Romance rating 3.244\n",
      "Genre Animation rating 3.299\n",
      "Genre Mystery rating 3.337\n",
      "Genre Musical rating 3.376\n",
      "Genre War rating 3.489\n",
      "Genre Film-Noir rating 3.548\n"
     ]
    }
   ],
   "source": [
    "for genre in tuple_sorted_rating_genre:\n",
    "    print(f\"Genre {genre[1]} rating {'%.3f' % genre[0]}\")"
   ]
  },
  {
   "cell_type": "markdown",
   "metadata": {},
   "source": [
    "# Exercício 5 - Calcular o rating por ano"
   ]
  },
  {
   "cell_type": "markdown",
   "metadata": {},
   "source": [
    "Definir função para calcular o rating para cada ano"
   ]
  },
  {
   "cell_type": "code",
   "execution_count": 22,
   "metadata": {},
   "outputs": [],
   "source": [
    "def f_rating_estimator_year():\n",
    "\n",
    "    # Inicializar os dicionários de contagem\n",
    "\n",
    "    dict_rating = {\"sum\": {}, \"quant\": {}, \"mean\": {}}\n",
    "\n",
    "    # Iterar informações sobre filmes calculando o rating medio de cada genero\n",
    "\n",
    "    for idx in range(len(dict_item_info[\"movie_id\"])):\n",
    "        movie_id = dict_item_info[\"movie_id\"][idx]\n",
    "        movie_rating = dict_rating_movie[\"mean\"][movie_id]\n",
    "        year = dict_item_info[\"release_date\"][idx].split(\"-\")[-1]\n",
    "\n",
    "        accumulator(dict_rating, year, movie_rating)\n",
    "\n",
    "    mean_calculator(dict_rating)\n",
    "\n",
    "    return dict_rating"
   ]
  },
  {
   "cell_type": "markdown",
   "metadata": {},
   "source": [
    "Calcular o rating para cada ano"
   ]
  },
  {
   "cell_type": "code",
   "execution_count": 23,
   "metadata": {},
   "outputs": [],
   "source": [
    "dict_rating_year = f_rating_estimator_year()"
   ]
  },
  {
   "cell_type": "markdown",
   "metadata": {},
   "source": [
    "Ordenar o par (rating, ano)"
   ]
  },
  {
   "cell_type": "code",
   "execution_count": 24,
   "metadata": {},
   "outputs": [],
   "source": [
    "tuple_sorted_rating_year = f_sort_rating_tuple(dict_rating_year)"
   ]
  },
  {
   "cell_type": "markdown",
   "metadata": {},
   "source": [
    "Imprimir o rate medio de cada ano"
   ]
  },
  {
   "cell_type": "code",
   "execution_count": 25,
   "metadata": {},
   "outputs": [
    {
     "name": "stdout",
     "output_type": "stream",
     "text": [
      "Year 1976 rating 2.467\n",
      "Year 1933 rating 2.500\n",
      "Year 1992 rating 2.789\n",
      "Year 1943 rating 2.875\n",
      "Year 1995 rating 2.896\n",
      "Year 1983 rating 2.896\n",
      "Year 1973 rating 2.965\n",
      "Year 1994 rating 2.971\n",
      "Year 1997 rating 2.980\n",
      "Year 1926 rating 3.000\n",
      "Year 1996 rating 3.003\n",
      "Year 1990 rating 3.027\n",
      "Year 1998 rating 3.042\n",
      "Year 1946 rating 3.053\n",
      "Year 1988 rating 3.060\n",
      "Year 1956 rating 3.060\n",
      "Year 1993 rating 3.067\n",
      "Year 1987 rating 3.073\n",
      "Year 1982 rating 3.172\n",
      "Year 1965 rating 3.173\n",
      "Year 1958 rating 3.176\n",
      "Year 1947 rating 3.180\n",
      "Year 1974 rating 3.195\n",
      "Year 1949 rating 3.201\n",
      "Year 1950 rating 3.207\n",
      "Year 1968 rating 3.210\n",
      "Year 1980 rating 3.264\n",
      "Year 1978 rating 3.276\n",
      "Year 1991 rating 3.277\n",
      "Year 1971 rating 3.283\n",
      "Year 1977 rating 3.289\n",
      "Year 1981 rating 3.293\n",
      "Year 1986 rating 3.321\n",
      "Year 1948 rating 3.367\n",
      "Year 1945 rating 3.427\n",
      "Year 1935 rating 3.427\n",
      "Year 1975 rating 3.522\n",
      "Year 1960 rating 3.537\n",
      "Year 1922 rating 3.556\n",
      "Year 1967 rating 3.573\n",
      "Year 1989 rating 3.581\n",
      "Year 1979 rating 3.594\n",
      "Year 1936 rating 3.602\n",
      "Year 1955 rating 3.652\n",
      "Year 1969 rating 3.655\n",
      "Year 1984 rating 3.670\n",
      "Year 1970 rating 3.678\n",
      "Year 1961 rating 3.691\n",
      "Year 1964 rating 3.770\n",
      "Year 1959 rating 3.775\n",
      "Year 1930 rating 3.778\n",
      "Year 1941 rating 3.784\n",
      "Year 1944 rating 3.795\n",
      "Year 1966 rating 3.806\n",
      "Year 1934 rating 3.807\n",
      "Year 1932 rating 3.833\n",
      "Year 1937 rating 3.839\n",
      "Year 1985 rating 3.852\n",
      "Year 1954 rating 3.858\n",
      "Year 1951 rating 3.861\n",
      "Year 1963 rating 3.873\n",
      "Year 1940 rating 3.879\n",
      "Year 1953 rating 3.885\n",
      "Year 1938 rating 3.896\n",
      "Year 1972 rating 3.933\n",
      "Year 1957 rating 3.940\n",
      "Year 1931 rating 4.000\n",
      "Year 1939 rating 4.009\n",
      "Year 1942 rating 4.034\n",
      "Year 1952 rating 4.042\n",
      "Year 1962 rating 4.061\n"
     ]
    }
   ],
   "source": [
    "for year in tuple_sorted_rating_year:\n",
    "    if year[1] != \"\":\n",
    "        print(f\"Year {year[1]} rating {'%.3f' % year[0]}\")"
   ]
  },
  {
   "cell_type": "markdown",
   "metadata": {},
   "source": [
    "Imprimir o ano que teve o melhor rating"
   ]
  },
  {
   "cell_type": "code",
   "execution_count": 26,
   "metadata": {},
   "outputs": [
    {
     "name": "stdout",
     "output_type": "stream",
     "text": [
      "Max year 1962 rating 4.061\n"
     ]
    }
   ],
   "source": [
    "max_year = tuple_sorted_rating_year[-1]\n",
    "print(f\"Max year {max_year[1]} rating {'%.3f' % max_year[0]}\")"
   ]
  },
  {
   "cell_type": "markdown",
   "metadata": {},
   "source": [
    "# Exercício 6 - Média de rating em relação a ocupação dos usuários"
   ]
  },
  {
   "cell_type": "code",
   "execution_count": 27,
   "metadata": {},
   "outputs": [],
   "source": [
    "user_info_header = \"user_id|age|gender|occupation|zip_code\"\n",
    "\n",
    "dict_user_info = f_carregar_dataset(\n",
    "    \"../ml-100k/u.user\", header_sep=\"|\", sep=\"|\", header=user_info_header)"
   ]
  },
  {
   "cell_type": "markdown",
   "metadata": {},
   "source": [
    "Definir função para calcular o rating para cada ocupação"
   ]
  },
  {
   "cell_type": "code",
   "execution_count": 28,
   "metadata": {},
   "outputs": [],
   "source": [
    "def f_rating_estimator_ocupation():\n",
    "    # Inicializar os dicionários de contagem\n",
    "\n",
    "    dict_rating = {\"sum\": {}, \"quant\": {}, \"mean\": {}}\n",
    "\n",
    "    # Iterar informações sobre usuarios calculando o rating medio \n",
    "    # de cada profissao\n",
    "\n",
    "    for idx in range(len(dict_user_info[\"user_id\"])):\n",
    "        user_id = dict_user_info[\"user_id\"][idx]\n",
    "        user_rating = dict_rating_user[\"mean\"][user_id]\n",
    "        user_occupation = dict_user_info[\"occupation\"][idx]\n",
    "\n",
    "        accumulator(dict_rating, user_occupation, user_rating)\n",
    "\n",
    "    mean_calculator(dict_rating)\n",
    "\n",
    "    return dict_rating"
   ]
  },
  {
   "cell_type": "markdown",
   "metadata": {},
   "source": [
    "Calcular o rating para cada occupation"
   ]
  },
  {
   "cell_type": "code",
   "execution_count": 29,
   "metadata": {},
   "outputs": [],
   "source": [
    "dict_rating_year = f_rating_estimator_ocupation()"
   ]
  },
  {
   "cell_type": "markdown",
   "metadata": {},
   "source": [
    "Ordenar o par (rating, occupation)"
   ]
  },
  {
   "cell_type": "code",
   "execution_count": 30,
   "metadata": {},
   "outputs": [],
   "source": [
    "tuple_sorted_rating_occupation = f_sort_rating_tuple(dict_rating_year)"
   ]
  },
  {
   "cell_type": "markdown",
   "metadata": {},
   "source": [
    "Imprimir o rate medio de cada occupation"
   ]
  },
  {
   "cell_type": "code",
   "execution_count": 31,
   "metadata": {},
   "outputs": [
    {
     "name": "stdout",
     "output_type": "stream",
     "text": [
      "Occupation healthcare rating 3.332\n",
      "Occupation homemaker rating 3.338\n",
      "Occupation entertainment rating 3.436\n",
      "Occupation retired rating 3.479\n",
      "Occupation marketing rating 3.483\n",
      "Occupation writer rating 3.503\n",
      "Occupation salesman rating 3.520\n",
      "Occupation executive rating 3.529\n",
      "Occupation other rating 3.556\n",
      "Occupation scientist rating 3.566\n",
      "Occupation student rating 3.576\n",
      "Occupation technician rating 3.589\n",
      "Occupation lawyer rating 3.598\n",
      "Occupation librarian rating 3.609\n",
      "Occupation none rating 3.619\n",
      "Occupation artist rating 3.620\n",
      "Occupation programmer rating 3.637\n",
      "Occupation administrator rating 3.653\n",
      "Occupation educator rating 3.667\n",
      "Occupation engineer rating 3.674\n",
      "Occupation doctor rating 3.862\n"
     ]
    }
   ],
   "source": [
    "for occupation in tuple_sorted_rating_occupation:\n",
    "    print(f\"Occupation {occupation[1]} rating {'%.3f' % occupation[0]}\")"
   ]
  },
  {
   "cell_type": "code",
   "execution_count": null,
   "metadata": {},
   "outputs": [],
   "source": []
  }
 ],
 "metadata": {
  "kernelspec": {
   "display_name": "Python 3",
   "language": "python",
   "name": "python3"
  },
  "language_info": {
   "codemirror_mode": {
    "name": "ipython",
    "version": 3
   },
   "file_extension": ".py",
   "mimetype": "text/x-python",
   "name": "python",
   "nbconvert_exporter": "python",
   "pygments_lexer": "ipython3",
   "version": "3.8.5"
  }
 },
 "nbformat": 4,
 "nbformat_minor": 4
}
